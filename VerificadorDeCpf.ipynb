{
  "nbformat": 4,
  "nbformat_minor": 0,
  "metadata": {
    "colab": {
      "provenance": [],
      "authorship_tag": "ABX9TyNC5iBRlNrOyL3qAXsLjF1F",
      "include_colab_link": true
    },
    "kernelspec": {
      "name": "python3",
      "display_name": "Python 3"
    },
    "language_info": {
      "name": "python"
    }
  },
  "cells": [
    {
      "cell_type": "markdown",
      "metadata": {
        "id": "view-in-github",
        "colab_type": "text"
      },
      "source": [
        "<a href=\"https://colab.research.google.com/github/Lucozolves/CpfValidator/blob/main/VerificadorDeCpf.ipynb\" target=\"_parent\"><img src=\"https://colab.research.google.com/assets/colab-badge.svg\" alt=\"Open In Colab\"/></a>"
      ]
    },
    {
      "cell_type": "code",
      "execution_count": null,
      "metadata": {
        "colab": {
          "base_uri": "https://localhost:8080/"
        },
        "id": "nT9LwJ2ZPnyT",
        "outputId": "cc06b735-a87f-4741-8c6d-b93fc247fea2"
      },
      "outputs": [
        {
          "output_type": "stream",
          "name": "stdout",
          "text": [
            "Adicione o seu CPF no formato: xxx.xxx.xxx-xx: 000.000.000-00\n",
            "o CPF:  000.000.000-00 é inválido\n"
          ]
        }
      ],
      "source": [
        "import sys\n",
        "\n",
        "cpf = input(\"Adicione o seu CPF no formato: xxx.xxx.xxx-xx: \")\n",
        "cpfSemPonto = cpf.replace(\".\", \"\")\n",
        "cpfFinal = cpfSemPonto.replace(\"-\", \"\")\n",
        "#vendo se tem 11 números\n",
        "if not cpfFinal.isdigit():\n",
        "   print('Você não inseriu números, cpf inválido')\n",
        "   sys.exit()\n",
        "if len(cpfFinal) != 11:\n",
        "   print('Número inválido de caracteres, cpf inválido')\n",
        "   sys.exit()\n",
        "#verificação 1 - a soma\n",
        "def somaAlgarismos(cpfFinal):\n",
        "    numero_str = cpfFinal\n",
        "    soma = 0\n",
        "    for digito in numero_str:\n",
        "        soma += int(digito)\n",
        "    return soma\n",
        "\n",
        "#verificação 2 - os digitos após o hífen\n",
        "def validarNumeros(cpfFinal):\n",
        "#1o dígito\n",
        "    soma = 0\n",
        "    peso = 10\n",
        "    for i in range(9):\n",
        "        soma += int(cpfFinal[i]) * peso\n",
        "        peso -= 1\n",
        "    resto = soma % 11\n",
        "    digito1 = 11 - resto if resto > 1 else 0\n",
        "\n",
        "    if int(cpfFinal[9]) != digito1:\n",
        "        return False\n",
        "#2o dígito\n",
        "    soma = 0\n",
        "    peso = 11\n",
        "    for i in range(10):\n",
        "        soma += int(cpfFinal[i]) * peso\n",
        "        peso -= 1\n",
        "    resto = soma % 11\n",
        "    digito2 = 11 - resto if resto > 1 else 0\n",
        "\n",
        "    if int(cpfFinal[10]) != digito2:\n",
        "        return False\n",
        "    return True\n",
        "\n",
        "somaCpf = somaAlgarismos(cpfFinal)\n",
        "finalCpf = validarNumeros(cpfFinal)\n",
        "listaPossivelSoma = [11, 12, 21, 22, 23, 32, 33, 34, 43, 44, 45,\n",
        "                     54, 55, 56, 65, 66, 67, 76, 77, 78, 87, 88]\n",
        "if somaCpf in listaPossivelSoma and finalCpf == True:\n",
        "  print(\"o CPF:'\", cpf,\"' é válido, a soma de seus algarismos tem como valor:\",\n",
        "        somaCpf, \"e os seus dois últimos números tem como valor correto: \",\n",
        "        cpfFinal[9], \"e\", cpfFinal[10])\n",
        "else:\n",
        "  print(\"o CPF: \", cpf, \"é inválido\")"
      ]
    }
  ]
}